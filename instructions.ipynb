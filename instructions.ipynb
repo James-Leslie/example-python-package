{
 "cells": [
  {
   "cell_type": "markdown",
   "metadata": {
    "slideshow": {
     "slide_type": "slide"
    }
   },
   "source": [
    "# EDSA Hackathon - Building a Python Package\n",
    "<img align=\"left\" src=\"https://github.com/James-Leslie/example-python-package/blob/master/images/0.1_python.png?raw=true\" width=60%/>\n",
    "<img align=\"left\" src=\"https://github.com/James-Leslie/example-python-package/blob/master/images/0.2_atom.png?raw=true\" width=30%/>\n",
    "<img src=\"https://github.com/James-Leslie/example-python-package/blob/master/images/0.3_github.png?raw=true\" width=60%/>   \n",
    "\n",
    "### (Press spacebar to view slideshow)"
   ]
  },
  {
   "cell_type": "markdown",
   "metadata": {
    "slideshow": {
     "slide_type": "slide"
    }
   },
   "source": [
    "## Introduction\n",
    "By now, you will have made use of some very popular Python packages such as **numpy** and **pandas**.\n",
    "\n",
    "<img align=\"left\" src=\"https://github.com/James-Leslie/example-python-package/blob/master/images/0.4_numpy.png?raw=true\" width=40%/>\n",
    "<img align=\"left\" src=\"https://github.com/James-Leslie/example-python-package/blob/master/images/0.5_pandas.png?raw=true\" width=60%/>"
   ]
  },
  {
   "cell_type": "markdown",
   "metadata": {
    "slideshow": {
     "slide_type": "subslide"
    }
   },
   "source": [
    "You will struggle to find a Data Scientist who hasn't, at the very least, _heard_ of either these packages."
   ]
  },
  {
   "cell_type": "markdown",
   "metadata": {
    "slideshow": {
     "slide_type": "fragment"
    }
   },
   "source": [
    "One of the great features of Python is that it is an open-source programming language, with an active community of developers who have helped, and continue to help, make it so user-friendly and versatile.   "
   ]
  },
  {
   "cell_type": "markdown",
   "metadata": {
    "slideshow": {
     "slide_type": "fragment"
    }
   },
   "source": [
    "Numpy and Pandas are just two examples of useful packages that you will come across on your Data Science journey. There are thousands of Python packages out there, and today we are going to learn how to build our own!"
   ]
  },
  {
   "cell_type": "markdown",
   "metadata": {
    "slideshow": {
     "slide_type": "subslide"
    }
   },
   "source": [
    "## Lesson overview\n",
    "  - Build a modular Python library\n",
    "  - Publish your library to GitHub\n",
    "  - Share your library with others"
   ]
  },
  {
   "cell_type": "markdown",
   "metadata": {
    "slideshow": {
     "slide_type": "subslide"
    }
   },
   "source": [
    "## Requirements\n",
    "\n",
    "Before you get started, here are a few things you will need to do:\n",
    "  - Install [Atom text editor](https://atom.io/)\n",
    "  - Install [Git for Windows](https://gitforwindows.org/)\n",
    "  - Sign up for a [free GitHub account](https://github.com/)"
   ]
  },
  {
   "cell_type": "markdown",
   "metadata": {
    "slideshow": {
     "slide_type": "fragment"
    }
   },
   "source": [
    "It is also recommended that you be familiar with GitHub and know how to use Git. So if these words mean nothing to you, then you should take a half-day to familiarize yourself with these tools."
   ]
  },
  {
   "cell_type": "markdown",
   "metadata": {
    "slideshow": {
     "slide_type": "slide"
    }
   },
   "source": [
    "## 1. Getting started\n",
    "Once all of the necessary software has been installed, we will need to set up our project working directory."
   ]
  },
  {
   "cell_type": "markdown",
   "metadata": {
    "slideshow": {
     "slide_type": "subslide"
    }
   },
   "source": [
    "### 1.1. File structure"
   ]
  },
  {
   "cell_type": "markdown",
   "metadata": {
    "slideshow": {
     "slide_type": "fragment"
    }
   },
   "source": [
    "Navigate to a familiar place in your computer and create a new folder. You may name the folder whatever you like, but it will be easier to follow this tutorial if you name your folder **`mypackage`**."
   ]
  },
  {
   "cell_type": "markdown",
   "metadata": {
    "slideshow": {
     "slide_type": "fragment"
    }
   },
   "source": [
    "From here on, we will refer to this new folder as your project's **root folder**."
   ]
  },
  {
   "cell_type": "markdown",
   "metadata": {
    "slideshow": {
     "slide_type": "notes"
    }
   },
   "source": [
    "Note: the naming convention for Python packages is to use short, all-lowercase names. Underscores are permissable, but discouraged."
   ]
  },
  {
   "cell_type": "markdown",
   "metadata": {
    "slideshow": {
     "slide_type": "subslide"
    }
   },
   "source": [
    "Open up Atom text editor, then click on:    \n",
    "**`File`** -> **`Add Project Folder...`**"
   ]
  },
  {
   "cell_type": "markdown",
   "metadata": {
    "slideshow": {
     "slide_type": "fragment"
    }
   },
   "source": [
    "![image.png](https://github.com/James-Leslie/example-python-package/blob/master/images/1_open_folder.png?raw=true)"
   ]
  },
  {
   "cell_type": "markdown",
   "metadata": {
    "slideshow": {
     "slide_type": "slide"
    }
   },
   "source": [
    "### 1.2. Create setup files"
   ]
  },
  {
   "cell_type": "markdown",
   "metadata": {
    "slideshow": {
     "slide_type": "fragment"
    }
   },
   "source": [
    "The end goal of this tutorial is to make our package _pip installable_. For this to be possible, we will need to structure our files in a very particular way."
   ]
  },
  {
   "cell_type": "markdown",
   "metadata": {
    "slideshow": {
     "slide_type": "fragment"
    }
   },
   "source": [
    "Atom has a built-in file browser that allows you to create new files and folders.   \n",
    "\n",
    "You can toggle **Tree View** in Atom by using `Ctrl+\\`, this will reveal the file browser on the left of your screen."
   ]
  },
  {
   "cell_type": "markdown",
   "metadata": {
    "slideshow": {
     "slide_type": "subslide"
    }
   },
   "source": [
    "#### 1.2.1. \n",
    "Create two new folders within your project's root folder, named **`mypackage`** and **`tests`**."
   ]
  },
  {
   "cell_type": "markdown",
   "metadata": {
    "slideshow": {
     "slide_type": "fragment"
    }
   },
   "source": [
    "<img align=\"left\" src=\"https://github.com/James-Leslie/example-python-package/blob/master/images/2.0_new_folder.png?raw=true\">"
   ]
  },
  {
   "cell_type": "markdown",
   "metadata": {
    "slideshow": {
     "slide_type": "subslide"
    }
   },
   "source": [
    "#### 1.2.2.\n",
    "Create two files within **`mypackage`** named **`myModule.py`** and **`__init__.py`**. "
   ]
  },
  {
   "cell_type": "markdown",
   "metadata": {
    "slideshow": {
     "slide_type": "fragment"
    }
   },
   "source": [
    "#### 1.2.3.\n",
    "Create a file within **`tests`** named **`test.py`**"
   ]
  },
  {
   "cell_type": "markdown",
   "metadata": {
    "slideshow": {
     "slide_type": "fragment"
    }
   },
   "source": [
    "Your project directory should now look like this:   \n",
    "\n",
    "<img align=\"left\" src=\"https://github.com/James-Leslie/example-python-package/blob/master/images/2.2_file_structure.png?raw=true\">"
   ]
  },
  {
   "cell_type": "markdown",
   "metadata": {
    "slideshow": {
     "slide_type": "slide"
    }
   },
   "source": [
    "## 2. Build your package\n",
    "Now that we have our folder structure set out, we can start writing some code!"
   ]
  },
  {
   "cell_type": "markdown",
   "metadata": {
    "slideshow": {
     "slide_type": "subslide"
    }
   },
   "source": [
    "We will need to do three things:\n",
    "  - create our first function\n",
    "  - test our function\n",
    "  - write some documentation for our package"
   ]
  },
  {
   "cell_type": "markdown",
   "metadata": {
    "slideshow": {
     "slide_type": "slide"
    }
   },
   "source": [
    "### 2.1. Create our function\n",
    "The function we are going to create will perform the task of returning the top-n items in an array, in descending order.   \n",
    "\n",
    "To do this, we will create an algorithm not too dissimilar to the bubble sort."
   ]
  },
  {
   "cell_type": "markdown",
   "metadata": {
    "slideshow": {
     "slide_type": "slide"
    }
   },
   "source": [
    "#### 2.1.1. Docstrings\n",
    "All good programmers need to know how to write clean, concise and descriptive docstrings for their functions.   \n",
    "\n",
    "This is where we will start."
   ]
  },
  {
   "cell_type": "markdown",
   "metadata": {
    "slideshow": {
     "slide_type": "subslide"
    }
   },
   "source": [
    "Here is an example of a well-documented function:"
   ]
  },
  {
   "cell_type": "code",
   "execution_count": null,
   "metadata": {
    "slideshow": {
     "slide_type": "fragment"
    }
   },
   "outputs": [],
   "source": [
    "def fibonacci(n):\n",
    "\n",
    "    \"\"\"\n",
    "    Calculate nth term in fibonacci sequence\n",
    "    \n",
    "    Args:\n",
    "        n (int): nth term in fibonacci sequence to calculate\n",
    "    \n",
    "    Returns:\n",
    "        int: nth term of fibonacci sequence,\n",
    "             equal to sum of previous two terms\n",
    "    \n",
    "    Examples:\n",
    "        >>> fibonacci(1)\n",
    "        1\n",
    "        \n",
    "        >> fibonacci(2)\n",
    "        1\n",
    "        \n",
    "        >> fibonacci(3)\n",
    "        2\n",
    "    \"\"\"\n",
    "\n",
    "    if n <= 1:\n",
    "        return n\n",
    "\n",
    "    else:\n",
    "        return fibonacci(n - 1) + fibonacci(n - 2)"
   ]
  },
  {
   "cell_type": "markdown",
   "metadata": {
    "slideshow": {
     "slide_type": "subslide"
    }
   },
   "source": [
    "Add the following into **`myFunction.py`**:"
   ]
  },
  {
   "cell_type": "code",
   "execution_count": null,
   "metadata": {
    "slideshow": {
     "slide_type": "fragment"
    }
   },
   "outputs": [],
   "source": [
    "def top_n(items, n):\n",
    "    \"\"\"Return the top n items in an array, in descending order.\n",
    "\n",
    "    Args:\n",
    "        items (array): list or array-like object containing numerical values.\n",
    "        n (int): number of top items to return.\n",
    "\n",
    "    Returns:\n",
    "        array: top n items, in descending order.\n",
    "\n",
    "    Examples:\n",
    "        >>> top_n([8, 3, 2, 7, 4], 3)\n",
    "        [8, 7, 3]\n",
    "    \"\"\""
   ]
  },
  {
   "cell_type": "markdown",
   "metadata": {
    "slideshow": {
     "slide_type": "subslide"
    }
   },
   "source": [
    "#### 2.1.2. Function body\n",
    "And now add the body of the function just below:"
   ]
  },
  {
   "cell_type": "code",
   "execution_count": null,
   "metadata": {
    "slideshow": {
     "slide_type": "fragment"
    }
   },
   "outputs": [],
   "source": [
    "def top_n(items, n):\n",
    "    \"\"\"\n",
    "    Return the top n items in an array, in descending order.\n",
    "\n",
    "    Args:\n",
    "        items (array): list or array-type object containing numerical values.\n",
    "        n (int): number of top items to return.\n",
    "\n",
    "    Returns:\n",
    "        array: top n items, in descending order.\n",
    "\n",
    "    Examples:\n",
    "        >>> top_n([8, 3, 2, 7, 4], 3)\n",
    "        [8, 7, 4]\n",
    "    \"\"\"\n",
    "\n",
    "    for i in range(n):  # keep sorting until we have the top n items\n",
    "        for j in range(len(items)-1-i):\n",
    "\n",
    "            if items[j] > items[j+1]:  # if this item is bigger than next item..\n",
    "                items[j], items[j+1] = items[j+1], items[j]  # swap the two!\n",
    "                \n",
    "    # get last two items\n",
    "    top_n = items[-n:]\n",
    "    \n",
    "    # return in descending order\n",
    "    return top_n[::-1]"
   ]
  },
  {
   "cell_type": "code",
   "execution_count": 25,
   "metadata": {
    "slideshow": {
     "slide_type": "skip"
    }
   },
   "outputs": [
    {
     "data": {
      "text/plain": [
       "[8, 7, 4]"
      ]
     },
     "execution_count": 25,
     "metadata": {},
     "output_type": "execute_result"
    }
   ],
   "source": [
    "# check function works\n",
    "top_n([8, 3, 2, 7, 4], 3)"
   ]
  },
  {
   "cell_type": "markdown",
   "metadata": {
    "slideshow": {
     "slide_type": "subslide"
    }
   },
   "source": [
    "This is what it should look like in Atom:   \n",
    "<img align=\"left\" src=\"https://github.com/James-Leslie/example-python-package/blob/master/images/3_function_body.png?raw=true\">"
   ]
  },
  {
   "cell_type": "markdown",
   "metadata": {
    "slideshow": {
     "slide_type": "subslide"
    }
   },
   "source": [
    "Now add the following to **`__init__.py`**:"
   ]
  },
  {
   "cell_type": "code",
   "execution_count": null,
   "metadata": {
    "slideshow": {
     "slide_type": "fragment"
    }
   },
   "outputs": [],
   "source": [
    "from . import myModule"
   ]
  },
  {
   "cell_type": "code",
   "execution_count": 24,
   "metadata": {
    "slideshow": {
     "slide_type": "skip"
    }
   },
   "outputs": [
    {
     "data": {
      "text/plain": [
       "[9, 7]"
      ]
     },
     "execution_count": 24,
     "metadata": {},
     "output_type": "execute_result"
    }
   ],
   "source": [
    "top_n([2, 6, 1, 7, 3, 9, 2, 1], 2)"
   ]
  },
  {
   "cell_type": "markdown",
   "metadata": {
    "slideshow": {
     "slide_type": "slide"
    }
   },
   "source": [
    "### 2.2. Testing\n",
    "You should always write some tests for every function.   \n",
    "\n",
    "In **`test.py`**, add the following:"
   ]
  },
  {
   "cell_type": "code",
   "execution_count": null,
   "metadata": {
    "slideshow": {
     "slide_type": "fragment"
    }
   },
   "outputs": [],
   "source": [
    "from mypackage import myFunction\n",
    "\n",
    "def test_top_n():\n",
    "    \"\"\"\n",
    "    make sure top_n works correctly\n",
    "    \"\"\"\n",
    "    \n",
    "    assert myFunction.top_n([8, 3, 2, 7, 4], 3) == [8, 7, 4], 'incorrect'\n",
    "    assert myFunction.top_n([10, 1, 12, 9, 2], 2) == [12, 10], 'incorrect'\n",
    "    assert myFunction.top_n([1, 2, 3, 4, 5], 5) == [5, 4, 3, 2, 1], 'incorrect'"
   ]
  },
  {
   "cell_type": "markdown",
   "metadata": {
    "slideshow": {
     "slide_type": "slide"
    }
   },
   "source": [
    "### 2.3. Supporting files\n",
    "Next, we will need to create another file named **`setup.py`** which describes your package."
   ]
  },
  {
   "cell_type": "markdown",
   "metadata": {
    "slideshow": {
     "slide_type": "fragment"
    }
   },
   "source": [
    "In your package's root directory, create **`setup.py`** and add the following:"
   ]
  },
  {
   "cell_type": "code",
   "execution_count": null,
   "metadata": {
    "slideshow": {
     "slide_type": "fragment"
    }
   },
   "outputs": [],
   "source": [
    "from setuptools import setup, find_packages\n",
    "\n",
    "setup(\n",
    "    name='mypackage',\n",
    "    version='0.1',\n",
    "    packages=find_packages(exclude=['tests*']),\n",
    "    license='MIT',\n",
    "    description='EDSA example python package',\n",
    "    long_description=open('README.md').read(),\n",
    "    install_requires=['numpy'],\n",
    "    url='https://github.com/James-Leslie/python-package-example',\n",
    "    author='James Leslie',\n",
    "    author_email='james@explore-ai.net'\n",
    ")"
   ]
  },
  {
   "cell_type": "markdown",
   "metadata": {
    "slideshow": {
     "slide_type": "subslide"
    }
   },
   "source": [
    "Consult the table below for some additional information on the parameters in `setup.py`.\n",
    "\n",
    "| Parameter | Comments |\n",
    "|---|---|\n",
    "| name | the name package managers will use for your project, like `numpy` or `pandas` |\n",
    "| version | the current version number of your project |\n",
    "| license | name of the [license](https://opensource.org/licenses/) you chose |\n",
    "| description | one-sentence description of your package |\n",
    "| install_requires | list of all other packages this package depends on; package managers will install these automatically as needed |"
   ]
  },
  {
   "cell_type": "markdown",
   "metadata": {
    "slideshow": {
     "slide_type": "subslide"
    }
   },
   "source": [
    "Lastly create **`README.md`** in your project's root folder, and add anything you like to describe your package in more detail.   \n",
    "Go to [this website](https://www.makeareadme.com/) for some helpful info on how to make a proper README file."
   ]
  },
  {
   "cell_type": "markdown",
   "metadata": {
    "slideshow": {
     "slide_type": "subslide"
    }
   },
   "source": [
    "<img align=\"left\" src=\"https://github.com/James-Leslie/example-python-package/blob/master/images/4.0_readme.png?raw=true\">"
   ]
  },
  {
   "cell_type": "markdown",
   "metadata": {
    "slideshow": {
     "slide_type": "slide"
    }
   },
   "source": [
    "## 3. Wrap It Up!\n",
    "You are now ready to ship your package."
   ]
  },
  {
   "cell_type": "markdown",
   "metadata": {
    "slideshow": {
     "slide_type": "subslide"
    }
   },
   "source": [
    "### 3.1. Package it locally\n",
    "When you are ready, run the following in the command line:"
   ]
  },
  {
   "cell_type": "markdown",
   "metadata": {
    "slideshow": {
     "slide_type": "fragment"
    }
   },
   "source": [
    "```\n",
    "python setup.py sdist\n",
    "```"
   ]
  },
  {
   "cell_type": "markdown",
   "metadata": {
    "slideshow": {
     "slide_type": "fragment"
    }
   },
   "source": [
    "You should see a new folder named **`dist`** that has been created in your project's root directory."
   ]
  },
  {
   "cell_type": "markdown",
   "metadata": {
    "slideshow": {
     "slide_type": "subslide"
    }
   },
   "source": [
    "NOTE: You should also see a folder named **`mypackage.egg-info`** that has been created.   \n",
    "\n",
    "This doesn't need to be included, so you can add it to a **`.gitignore`** file in the root folder of your project."
   ]
  },
  {
   "cell_type": "markdown",
   "metadata": {
    "slideshow": {
     "slide_type": "subslide"
    }
   },
   "source": [
    "<img align=\"left\" src=\"https://github.com/James-Leslie/example-python-package/blob/master/images/4.1_gitignore.png?raw=true\">"
   ]
  },
  {
   "cell_type": "markdown",
   "metadata": {
    "slideshow": {
     "slide_type": "slide"
    }
   },
   "source": [
    "### 3.2. Distribute to GitHub\n",
    "We now want to publish our package so that anyone else can download and use it!"
   ]
  },
  {
   "cell_type": "markdown",
   "metadata": {
    "slideshow": {
     "slide_type": "subslide"
    }
   },
   "source": [
    "#### 3.2.1. Initialize local Git repository\n",
    "Using any terminal, navigate to your project's root folder and issue the following commands:"
   ]
  },
  {
   "cell_type": "markdown",
   "metadata": {
    "slideshow": {
     "slide_type": "fragment"
    }
   },
   "source": [
    "```\n",
    "$ git init\n",
    "```"
   ]
  },
  {
   "cell_type": "markdown",
   "metadata": {
    "slideshow": {
     "slide_type": "fragment"
    }
   },
   "source": [
    "```\n",
    "$ git add .\n",
    "```"
   ]
  },
  {
   "cell_type": "markdown",
   "metadata": {
    "slideshow": {
     "slide_type": "fragment"
    }
   },
   "source": [
    "```\n",
    "$ git commit -m \"First commit\"\n",
    "```"
   ]
  },
  {
   "cell_type": "markdown",
   "metadata": {
    "slideshow": {
     "slide_type": "subslide"
    }
   },
   "source": [
    "#### 3.2.2. Create remote repository\n",
    "Log into GitHub and create a new repository.   "
   ]
  },
  {
   "cell_type": "markdown",
   "metadata": {
    "slideshow": {
     "slide_type": "fragment"
    }
   },
   "source": [
    "<img align=\"left\" src=\"https://github.com/James-Leslie/example-python-package/blob/master/images/4.2_new_repo.png?raw=true\">"
   ]
  },
  {
   "cell_type": "markdown",
   "metadata": {
    "slideshow": {
     "slide_type": "subslide"
    }
   },
   "source": [
    "<img align=\"left\" src=\"https://github.com/James-Leslie/example-python-package/blob/master/images/5_new_repo.png?raw=true\">"
   ]
  },
  {
   "cell_type": "markdown",
   "metadata": {
    "slideshow": {
     "slide_type": "subslide"
    }
   },
   "source": [
    "#### 3.2.3. Push to GitHub\n",
    "Copy the URL for the remote repository and issue the following commands:"
   ]
  },
  {
   "cell_type": "markdown",
   "metadata": {
    "slideshow": {
     "slide_type": "fragment"
    }
   },
   "source": [
    "```\n",
    "$ git remote add origin <remoteURL>\n",
    "```"
   ]
  },
  {
   "cell_type": "markdown",
   "metadata": {
    "slideshow": {
     "slide_type": "fragment"
    }
   },
   "source": [
    "```\n",
    "$ git push origin master\n",
    "```"
   ]
  },
  {
   "cell_type": "markdown",
   "metadata": {
    "slideshow": {
     "slide_type": "slide"
    }
   },
   "source": [
    "### 3.3. Install from GitHub\n",
    "You can now install your package onto any computer (with internet access)!   "
   ]
  },
  {
   "cell_type": "markdown",
   "metadata": {
    "slideshow": {
     "slide_type": "fragment"
    }
   },
   "source": [
    "Issue the command below to install your package from GitHub.   \n",
    "(make sure to replace `your-name` and `your-repo` with the appropriate text)   \n",
    "\n",
    "`pip install git+https://github.com/your-name/your-repo.git`"
   ]
  },
  {
   "cell_type": "markdown",
   "metadata": {
    "slideshow": {
     "slide_type": "fragment"
    }
   },
   "source": [
    "If you need to install a later version of your package, then use:   \n",
    "\n",
    "`pip install --upgrade git+https://github.com/your-name/your-repo.git`"
   ]
  },
  {
   "cell_type": "markdown",
   "metadata": {
    "slideshow": {
     "slide_type": "slide"
    }
   },
   "source": [
    "### 4. Maintaining your package\n",
    "You now have a version 0.1 of your first Python package!   \n",
    "\n",
    "Now you are free to make improvements and expand the scope of your package."
   ]
  },
  {
   "cell_type": "markdown",
   "metadata": {
    "slideshow": {
     "slide_type": "subslide"
    }
   },
   "source": [
    "### 4.1. Package development workflow\n",
    "Follow these steps when making changes to your package:"
   ]
  },
  {
   "cell_type": "markdown",
   "metadata": {
    "slideshow": {
     "slide_type": "fragment"
    }
   },
   "source": [
    "  - make changes locally"
   ]
  },
  {
   "cell_type": "markdown",
   "metadata": {
    "slideshow": {
     "slide_type": "fragment"
    }
   },
   "source": [
    "  - push changes to GitHub"
   ]
  },
  {
   "cell_type": "markdown",
   "metadata": {
    "slideshow": {
     "slide_type": "fragment"
    }
   },
   "source": [
    "  - install updated version"
   ]
  },
  {
   "cell_type": "markdown",
   "metadata": {
    "slideshow": {
     "slide_type": "subslide"
    }
   },
   "source": [
    "#### 4.1.1. Work locally\n",
    "Your package consists of a number of interdependent files. It is important to keep all of these dependencies in check.   \n",
    "\n",
    "A likely workflow will look something like this:"
   ]
  },
  {
   "cell_type": "markdown",
   "metadata": {
    "slideshow": {
     "slide_type": "fragment"
    }
   },
   "source": [
    "  - add new functions, or improve existing functions"
   ]
  },
  {
   "cell_type": "markdown",
   "metadata": {
    "slideshow": {
     "slide_type": "fragment"
    }
   },
   "source": [
    "  - update `test.py` if needed"
   ]
  },
  {
   "cell_type": "markdown",
   "metadata": {
    "slideshow": {
     "slide_type": "fragment"
    }
   },
   "source": [
    "  - update `__init__.py` if needed"
   ]
  },
  {
   "cell_type": "markdown",
   "metadata": {
    "slideshow": {
     "slide_type": "fragment"
    }
   },
   "source": [
    "  - update `setup.py` if needed (make sure to update the version number)"
   ]
  },
  {
   "cell_type": "markdown",
   "metadata": {
    "slideshow": {
     "slide_type": "subslide"
    }
   },
   "source": [
    "Once you have tested your functions, and you are happy to push the new version. Run the same setup command as before:   \n",
    "`python setup.py sdist`"
   ]
  },
  {
   "cell_type": "markdown",
   "metadata": {
    "slideshow": {
     "slide_type": "subslide"
    }
   },
   "source": [
    "#### 4.1.2. Push changes\n",
    "When you are ready to publish your updated package, follow the commands below:"
   ]
  },
  {
   "cell_type": "markdown",
   "metadata": {
    "slideshow": {
     "slide_type": "fragment"
    }
   },
   "source": [
    "  - `git status`"
   ]
  },
  {
   "cell_type": "markdown",
   "metadata": {
    "slideshow": {
     "slide_type": "fragment"
    }
   },
   "source": [
    "  - `git add .`"
   ]
  },
  {
   "cell_type": "markdown",
   "metadata": {
    "slideshow": {
     "slide_type": "fragment"
    }
   },
   "source": [
    "  - `git commit -m 'make sure to include a detailed commit message'`"
   ]
  },
  {
   "cell_type": "markdown",
   "metadata": {
    "slideshow": {
     "slide_type": "fragment"
    }
   },
   "source": [
    "  - `git push`"
   ]
  },
  {
   "cell_type": "markdown",
   "metadata": {
    "slideshow": {
     "slide_type": "subslide"
    }
   },
   "source": [
    "#### 4.1.3. Install updates\n",
    "The last step is to install your updated version, using the command below:   \n",
    "`pip install --upgrade git+https://github.com/your-name/your-repo.git`"
   ]
  },
  {
   "cell_type": "markdown",
   "metadata": {
    "slideshow": {
     "slide_type": "slide"
    }
   },
   "source": [
    "## Finished example\n",
    "For an example of a working package, check out [this repository](https://github.com/James-Leslie/example-python-package)."
   ]
  },
  {
   "cell_type": "markdown",
   "metadata": {
    "slideshow": {
     "slide_type": "subslide"
    }
   },
   "source": [
    "## _Fin_"
   ]
  }
 ],
 "metadata": {
  "celltoolbar": "Slideshow",
  "kernelspec": {
   "display_name": "Python 3",
   "language": "python",
   "name": "python3"
  },
  "language_info": {
   "codemirror_mode": {
    "name": "ipython",
    "version": 3
   },
   "file_extension": ".py",
   "mimetype": "text/x-python",
   "name": "python",
   "nbconvert_exporter": "python",
   "pygments_lexer": "ipython3",
   "version": "3.7.0"
  }
 },
 "nbformat": 4,
 "nbformat_minor": 2
}
